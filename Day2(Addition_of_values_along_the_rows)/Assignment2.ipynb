{
  "nbformat": 4,
  "nbformat_minor": 0,
  "metadata": {
    "colab": {
      "name": "Assignment2.ipynb",
      "provenance": [],
      "collapsed_sections": []
    },
    "kernelspec": {
      "name": "python3",
      "display_name": "Python 3"
    },
    "language_info": {
      "name": "python"
    }
  },
  "cells": [
    {
      "cell_type": "code",
      "metadata": {
        "id": "coaL9zAkVoGL"
      },
      "source": [
        "#importing the necessary libraries\n",
        "import numpy as np\n",
        "import pandas as pd\n",
        "\n",
        "#read the dataset\n",
        "box_scores = pd.read_csv('Assignment_marks.csv')"
      ],
      "execution_count": 2,
      "outputs": []
    },
    {
      "cell_type": "code",
      "metadata": {
        "colab": {
          "base_uri": "https://localhost:8080/",
          "height": 204
        },
        "id": "YABfNb59WF-6",
        "outputId": "644d88e6-fa8f-4554-e40e-d3ea1cd448cb"
      },
      "source": [
        "#quick look at our dataset\n",
        "box_scores.head()"
      ],
      "execution_count": 3,
      "outputs": [
        {
          "output_type": "execute_result",
          "data": {
            "text/html": [
              "<div>\n",
              "<style scoped>\n",
              "    .dataframe tbody tr th:only-of-type {\n",
              "        vertical-align: middle;\n",
              "    }\n",
              "\n",
              "    .dataframe tbody tr th {\n",
              "        vertical-align: top;\n",
              "    }\n",
              "\n",
              "    .dataframe thead th {\n",
              "        text-align: right;\n",
              "    }\n",
              "</style>\n",
              "<table border=\"1\" class=\"dataframe\">\n",
              "  <thead>\n",
              "    <tr style=\"text-align: right;\">\n",
              "      <th></th>\n",
              "      <th>student</th>\n",
              "      <th>assignment1</th>\n",
              "      <th>assignment2</th>\n",
              "      <th>assignment3</th>\n",
              "    </tr>\n",
              "  </thead>\n",
              "  <tbody>\n",
              "    <tr>\n",
              "      <th>0</th>\n",
              "      <td>Karen Austin</td>\n",
              "      <td>90</td>\n",
              "      <td>98</td>\n",
              "      <td>80</td>\n",
              "    </tr>\n",
              "    <tr>\n",
              "      <th>1</th>\n",
              "      <td>Mathew Ward</td>\n",
              "      <td>85</td>\n",
              "      <td>90</td>\n",
              "      <td>70</td>\n",
              "    </tr>\n",
              "    <tr>\n",
              "      <th>2</th>\n",
              "      <td>John Miranda</td>\n",
              "      <td>87</td>\n",
              "      <td>75</td>\n",
              "      <td>90</td>\n",
              "    </tr>\n",
              "    <tr>\n",
              "      <th>3</th>\n",
              "      <td>Scott Taylor</td>\n",
              "      <td>60</td>\n",
              "      <td>55</td>\n",
              "      <td>70</td>\n",
              "    </tr>\n",
              "    <tr>\n",
              "      <th>4</th>\n",
              "      <td>Tom Saunders</td>\n",
              "      <td>80</td>\n",
              "      <td>88</td>\n",
              "      <td>90</td>\n",
              "    </tr>\n",
              "  </tbody>\n",
              "</table>\n",
              "</div>"
            ],
            "text/plain": [
              "        student  assignment1  assignment2  assignment3\n",
              "0  Karen Austin           90           98           80\n",
              "1   Mathew Ward           85           90           70\n",
              "2  John Miranda           87           75           90\n",
              "3  Scott Taylor           60           55           70\n",
              "4  Tom Saunders           80           88           90"
            ]
          },
          "metadata": {
            "tags": []
          },
          "execution_count": 3
        }
      ]
    },
    {
      "cell_type": "markdown",
      "metadata": {
        "id": "aSXObSoUWaSZ"
      },
      "source": [
        "# **QUIZ.**\n",
        "\n",
        "# You are given a table containing assignment scores of students in a class. Write a query that identifies the largest difference in total score of all assignments.\n",
        "#Output just the difference in total score between the two students."
      ]
    },
    {
      "cell_type": "code",
      "metadata": {
        "colab": {
          "base_uri": "https://localhost:8080/",
          "height": 204
        },
        "id": "J71jF2mUWPF8",
        "outputId": "dc3a3f3d-f4c7-4d19-9e94-45525863fa60"
      },
      "source": [
        "#find the sum of scores along the rows\n",
        "list_columns = box_scores.loc[:,['assignment1', 'assignment2', 'assignment3']]\n",
        "\n",
        "total_score = list_columns.sum(axis=1)\n",
        "\n",
        "#creating a new column total_scores\n",
        "box_scores['total_score'] = total_score\n",
        "box_scores\n"
      ],
      "execution_count": 16,
      "outputs": [
        {
          "output_type": "execute_result",
          "data": {
            "text/html": [
              "<div>\n",
              "<style scoped>\n",
              "    .dataframe tbody tr th:only-of-type {\n",
              "        vertical-align: middle;\n",
              "    }\n",
              "\n",
              "    .dataframe tbody tr th {\n",
              "        vertical-align: top;\n",
              "    }\n",
              "\n",
              "    .dataframe thead th {\n",
              "        text-align: right;\n",
              "    }\n",
              "</style>\n",
              "<table border=\"1\" class=\"dataframe\">\n",
              "  <thead>\n",
              "    <tr style=\"text-align: right;\">\n",
              "      <th></th>\n",
              "      <th>student</th>\n",
              "      <th>assignment1</th>\n",
              "      <th>assignment2</th>\n",
              "      <th>assignment3</th>\n",
              "      <th>total_score</th>\n",
              "    </tr>\n",
              "  </thead>\n",
              "  <tbody>\n",
              "    <tr>\n",
              "      <th>0</th>\n",
              "      <td>Karen Austin</td>\n",
              "      <td>90</td>\n",
              "      <td>98</td>\n",
              "      <td>80</td>\n",
              "      <td>268</td>\n",
              "    </tr>\n",
              "    <tr>\n",
              "      <th>1</th>\n",
              "      <td>Mathew Ward</td>\n",
              "      <td>85</td>\n",
              "      <td>90</td>\n",
              "      <td>70</td>\n",
              "      <td>245</td>\n",
              "    </tr>\n",
              "    <tr>\n",
              "      <th>2</th>\n",
              "      <td>John Miranda</td>\n",
              "      <td>87</td>\n",
              "      <td>75</td>\n",
              "      <td>90</td>\n",
              "      <td>252</td>\n",
              "    </tr>\n",
              "    <tr>\n",
              "      <th>3</th>\n",
              "      <td>Scott Taylor</td>\n",
              "      <td>60</td>\n",
              "      <td>55</td>\n",
              "      <td>70</td>\n",
              "      <td>185</td>\n",
              "    </tr>\n",
              "    <tr>\n",
              "      <th>4</th>\n",
              "      <td>Tom Saunders</td>\n",
              "      <td>80</td>\n",
              "      <td>88</td>\n",
              "      <td>90</td>\n",
              "      <td>258</td>\n",
              "    </tr>\n",
              "  </tbody>\n",
              "</table>\n",
              "</div>"
            ],
            "text/plain": [
              "        student  assignment1  assignment2  assignment3  total_score\n",
              "0  Karen Austin           90           98           80          268\n",
              "1   Mathew Ward           85           90           70          245\n",
              "2  John Miranda           87           75           90          252\n",
              "3  Scott Taylor           60           55           70          185\n",
              "4  Tom Saunders           80           88           90          258"
            ]
          },
          "metadata": {
            "tags": []
          },
          "execution_count": 16
        }
      ]
    },
    {
      "cell_type": "code",
      "metadata": {
        "colab": {
          "base_uri": "https://localhost:8080/"
        },
        "id": "Ety51gEXXu_h",
        "outputId": "40e8b817-9a08-4fe9-df0e-611ff9306d0c"
      },
      "source": [
        "#find the lowest total score\n",
        "\n",
        "lowest_total_score = box_scores.total_score.min()\n",
        "lowest_total_score"
      ],
      "execution_count": 17,
      "outputs": [
        {
          "output_type": "execute_result",
          "data": {
            "text/plain": [
              "185"
            ]
          },
          "metadata": {
            "tags": []
          },
          "execution_count": 17
        }
      ]
    },
    {
      "cell_type": "code",
      "metadata": {
        "colab": {
          "base_uri": "https://localhost:8080/"
        },
        "id": "89iRVd3khYmN",
        "outputId": "d2c2fc75-1bda-4874-d30c-4129bb590a5f"
      },
      "source": [
        "#find the highest total score\n",
        "\n",
        "highest_total_score = box_scores.total_score.max()\n",
        "highest_total_score"
      ],
      "execution_count": 18,
      "outputs": [
        {
          "output_type": "execute_result",
          "data": {
            "text/plain": [
              "268"
            ]
          },
          "metadata": {
            "tags": []
          },
          "execution_count": 18
        }
      ]
    },
    {
      "cell_type": "code",
      "metadata": {
        "colab": {
          "base_uri": "https://localhost:8080/"
        },
        "id": "YPFyfm_ChmpO",
        "outputId": "937a41e6-f2bd-4319-d892-33fddc74ce5b"
      },
      "source": [
        "#differenece between lowest and highest total scores\n",
        "difference_total_score = (highest_total_score - lowest_total_score)\n",
        "difference_total_score\n"
      ],
      "execution_count": 19,
      "outputs": [
        {
          "output_type": "execute_result",
          "data": {
            "text/plain": [
              "83"
            ]
          },
          "metadata": {
            "tags": []
          },
          "execution_count": 19
        }
      ]
    },
    {
      "cell_type": "code",
      "metadata": {
        "id": "58ZMjlEBh8EM"
      },
      "source": [
        ""
      ],
      "execution_count": null,
      "outputs": []
    }
  ]
}